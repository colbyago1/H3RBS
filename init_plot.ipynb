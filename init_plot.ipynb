{
 "cells": [
  {
   "cell_type": "code",
   "execution_count": 1,
   "id": "4306c59d",
   "metadata": {},
   "outputs": [],
   "source": [
    "#import modules need for analysis\n",
    "import pandas as pd\n",
    "%matplotlib inline\n",
    "import matplotlib.pyplot as plt "
   ]
  },
  {
   "cell_type": "code",
   "execution_count": 50,
   "id": "7b9e1e66",
   "metadata": {},
   "outputs": [
    {
     "name": "stdout",
     "output_type": "stream",
     "text": [
      "<class 'pandas.core.frame.DataFrame'>\n",
      "Int64Index: 16 entries, 10 to 42\n",
      "Data columns (total 23 columns):\n",
      " #   Column                Non-Null Count  Dtype  \n",
      "---  ------                --------------  -----  \n",
      " 0   description           16 non-null     object \n",
      " 1   total_score           16 non-null     float64\n",
      " 2   atom_pair_constraint  16 non-null     float64\n",
      " 3   dslf_fa13             16 non-null     float64\n",
      " 4   fa_atr                16 non-null     float64\n",
      " 5   fa_dun                16 non-null     float64\n",
      " 6   fa_elec               16 non-null     float64\n",
      " 7   fa_intra_rep          16 non-null     float64\n",
      " 8   fa_intra_sol_xover4   16 non-null     float64\n",
      " 9   fa_rep                16 non-null     float64\n",
      " 10  fa_sol                16 non-null     float64\n",
      " 11  hbond_bb_sc           16 non-null     float64\n",
      " 12  hbond_lr_bb           16 non-null     float64\n",
      " 13  hbond_sc              16 non-null     float64\n",
      " 14  hbond_sr_bb           16 non-null     float64\n",
      " 15  lk_ball_wtd           16 non-null     float64\n",
      " 16  omega                 16 non-null     float64\n",
      " 17  p_aa_pp               16 non-null     float64\n",
      " 18  pro_close             16 non-null     float64\n",
      " 19  rama_prepro           16 non-null     float64\n",
      " 20  ref                   16 non-null     float64\n",
      " 21  yhh_planarity         16 non-null     float64\n",
      " 22  rmsd                  16 non-null     float64\n",
      "dtypes: float64(22), object(1)\n",
      "memory usage: 3.0+ KB\n"
     ]
    }
   ],
   "source": [
    "csv_file_name_relax = './output_rmsd_relax2.csv'\n",
    "\n",
    "#load the data into a pandas dataframe\n",
    "df_relax = pd.read_csv(csv_file_name_relax)\n",
    "filtered_df_relax = df_relax[(df_relax['total_score'] < -500) & (df_relax['rmsd'] < 4)]\n",
    "\n",
    "filtered_df_relax.info()"
   ]
  },
  {
   "cell_type": "code",
   "execution_count": 51,
   "id": "023d3aa1",
   "metadata": {},
   "outputs": [
    {
     "name": "stdout",
     "output_type": "stream",
     "text": [
      "<class 'pandas.core.frame.DataFrame'>\n",
      "RangeIndex: 43 entries, 0 to 42\n",
      "Data columns (total 26 columns):\n",
      " #   Column               Non-Null Count  Dtype  \n",
      "---  ------               --------------  -----  \n",
      " 0   description          43 non-null     object \n",
      " 1   total_score          43 non-null     float64\n",
      " 2   score                43 non-null     float64\n",
      " 3   dslf_fa13            43 non-null     float64\n",
      " 4   fa_atr               43 non-null     float64\n",
      " 5   fa_dun               43 non-null     float64\n",
      " 6   fa_elec              43 non-null     float64\n",
      " 7   fa_intra_rep         43 non-null     float64\n",
      " 8   fa_intra_sol_xover4  43 non-null     float64\n",
      " 9   fa_rep               43 non-null     float64\n",
      " 10  fa_sol               43 non-null     float64\n",
      " 11  hbond_bb_sc          43 non-null     float64\n",
      " 12  hbond_lr_bb          43 non-null     float64\n",
      " 13  hbond_sc             43 non-null     float64\n",
      " 14  hbond_sr_bb          43 non-null     float64\n",
      " 15  linear_chainbreak    43 non-null     float64\n",
      " 16  lk_ball_wtd          43 non-null     float64\n",
      " 17  omega                43 non-null     float64\n",
      " 18  overlap_chainbreak   43 non-null     float64\n",
      " 19  p_aa_pp              43 non-null     float64\n",
      " 20  pro_close            43 non-null     float64\n",
      " 21  rama_prepro          43 non-null     float64\n",
      " 22  ref                  43 non-null     float64\n",
      " 23  time                 43 non-null     float64\n",
      " 24  yhh_planarity        43 non-null     float64\n",
      " 25  rmsd                 43 non-null     float64\n",
      "dtypes: float64(25), object(1)\n",
      "memory usage: 8.9+ KB\n"
     ]
    }
   ],
   "source": [
    "csv_file_name_all = './output_rmsd_all.csv'\n",
    "\n",
    "#load the data into a pandas dataframe\n",
    "df_all = pd.read_csv(csv_file_name_all)\n",
    "\n",
    "df_all.info()"
   ]
  },
  {
   "cell_type": "code",
   "execution_count": 52,
   "id": "5f74a9c4",
   "metadata": {},
   "outputs": [
    {
     "data": {
      "text/plain": [
       "Text(0, 0.5, 'total_score')"
      ]
     },
     "execution_count": 52,
     "metadata": {},
     "output_type": "execute_result"
    },
    {
     "data": {
      "image/png": "[encoded data removed]",
      "text/plain": [
       "<Figure size 640x480 with 1 Axes>"
      ]
     },
     "metadata": {},
     "output_type": "display_data"
    }
   ],
   "source": [
    "col1 = \"rmsd\" # x\n",
    "col2 = \"total_score\" # y\n",
    "plt.figure()\n",
    "#plt.scatter(df_all[col1], df_all[col2], label=\"pre-relax\")\n",
    "plt.scatter(df_relax[col1], df_relax[col2], label=\"post-relax\")\n",
    "plt.scatter(filtered_df_relax[col1], filtered_df_relax[col2], label=\"filtered\")\n",
    "plt.title(f\"{col2} vs {col1}\")\n",
    "plt.legend()\n",
    "plt.xlabel(col1)\n",
    "plt.ylabel(col2)"
   ]
  },
  {
   "cell_type": "code",
   "execution_count": null,
   "id": "498e599f",
   "metadata": {},
   "outputs": [],
   "source": []
  },
  {
   "cell_type": "code",
   "execution_count": null,
   "id": "813ed7f4",
   "metadata": {},
   "outputs": [],
   "source": []
  }
 ],
 "metadata": {
  "kernelspec": {
   "display_name": "Python 3 (ipykernel)",
   "language": "python",
   "name": "python3"
  },
  "language_info": {
   "codemirror_mode": {
    "name": "ipython",
    "version": 3
   },
   "file_extension": ".py",
   "mimetype": "text/x-python",
   "name": "python",
   "nbconvert_exporter": "python",
   "pygments_lexer": "ipython3",
   "version": "3.11.4"
  }
 },
 "nbformat": 4,
 "nbformat_minor": 5
}
